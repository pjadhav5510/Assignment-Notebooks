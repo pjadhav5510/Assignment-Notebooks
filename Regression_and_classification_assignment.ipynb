{
  "cells": [
    {
      "cell_type": "markdown",
      "metadata": {
        "id": "h7GAof4hJO-p"
      },
      "source": [
        "# Regression and Classification Assignment\n",
        "\n",
        "This notebook uses the data discussed in regression_and_classification notebook.   You may want to review that if you\n",
        "have trouble with the assignment."
      ]
    },
    {
      "cell_type": "markdown",
      "metadata": {
        "id": "dn1SXa-2JO-v"
      },
      "source": [
        "## 1. The data"
      ]
    },
    {
      "cell_type": "markdown",
      "metadata": {
        "id": "X7BVG65jJO-x"
      },
      "source": [
        "First we do some imports and load the data from the `sklearn` module."
      ]
    },
    {
      "cell_type": "code",
      "execution_count": null,
      "metadata": {
        "id": "PXLAja4KJO-y"
      },
      "outputs": [],
      "source": [
        "from sklearn.datasets import load_iris\n",
        "from sklearn.metrics import accuracy_score\n",
        "from sklearn import linear_model\n",
        "import numpy as np\n",
        "\n",
        "\n",
        "data = load_iris()\n",
        "features = data['data']\n",
        "feature_names = data['feature_names']\n",
        "target = data['target']"
      ]
    },
    {
      "cell_type": "markdown",
      "metadata": {
        "id": "Dk5G9nKGJO-0"
      },
      "source": [
        "## 2.  The questions"
      ]
    },
    {
      "cell_type": "markdown",
      "metadata": {
        "id": "NPnVysr6JO-0"
      },
      "source": [
        "**Q1**\n",
        "\n",
        "Don't take my word for it that subsets of the 4 Iris features always produce a worse classifier.\n",
        "Try it out.\n",
        "\n",
        "Change the selector array in the next cell and execute the code\n",
        "in the cell to try out your own favorite subsets\n",
        "of features.  No subset of 2 or even 3 features performs as well as using all 4.\n",
        "\n",
        "For example, using this selector\n",
        "```\n",
        "selector = np.array([True,True,False,True])\n",
        "```\n",
        "\n",
        "leaves out just  the third feature.  Here's your challenge: Find the best 2-feature\n",
        "system (it performs almost as well as any 3-feature system), and the best\n",
        "3-feature system.  Hint for the 2-feature problem, if you want to get there more\n",
        "quickly.  Look at our plots of two-feature systems in the \"Plotting Attributes\" section of the regression_and_classification.ipynb notebook (Section 2).  Which one **looks**\n",
        "like it gives the best separation?"
      ]
    },
    {
      "cell_type": "code",
      "execution_count": null,
      "metadata": {
        "id": "TM_QZuypJO-1",
        "outputId": "1082d0b9-812f-40a7-c000-2556d4e87806",
        "colab": {
          "base_uri": "https://localhost:8080/"
        }
      },
      "outputs": [
        {
          "output_type": "execute_result",
          "data": {
            "text/plain": [
              "0.9666666666666667"
            ]
          },
          "metadata": {},
          "execution_count": 14
        }
      ],
      "source": [
        "#Use selected features\n",
        "selector = np.array([True,True,False,True])\n",
        "X = features[:,selector]\n",
        "Y = target\n",
        "logreg = linear_model.LogisticRegression(C=1e5, solver='lbfgs',multi_class='auto')\n",
        "logreg.fit(X, Y)\n",
        "predicted = logreg.predict(X)\n",
        "accuracy_score(Y,predicted)"
      ]
    },
    {
      "cell_type": "code",
      "source": [
        "import numpy as np\n",
        "from sklearn import linear_model\n",
        "from sklearn.metrics import accuracy_score\n",
        "\n",
        "# Define the original selector array\n",
        "selector = np.array([True, True, False, True])\n",
        "\n",
        "# Extract the selected features\n",
        "selected_indices = np.where(selector)[0]\n",
        "X = features[:, selected_indices]\n",
        "Y = target\n",
        "\n",
        "# Initialize variables to keep track of best feature systems and their performance\n",
        "best_2_feature_system = None\n",
        "best_3_feature_system = None\n",
        "best_performance_2_feature = 0\n",
        "best_performance_3_feature = 0\n",
        "\n",
        "# Loop through all possible 2-feature combinations\n",
        "for i in range(X.shape[1]):\n",
        "    for j in range(i + 1, X.shape[1]):\n",
        "        # Create a temporary 2-feature system\n",
        "        current_selector_2_feature = np.array([False, False, False])\n",
        "        current_selector_2_feature[i] = True\n",
        "        current_selector_2_feature[j] = True\n",
        "        X_2_feature = X[:, current_selector_2_feature]\n",
        "\n",
        "        # Train and evaluate a logistic regression model on the 2-feature system\n",
        "        logreg = linear_model.LogisticRegression(C=1e5, solver='lbfgs', multi_class='auto')\n",
        "        logreg.fit(X_2_feature, Y)\n",
        "        predicted_2_feature = logreg.predict(X_2_feature)\n",
        "        accuracy_2_feature = accuracy_score(Y, predicted_2_feature)\n",
        "\n",
        "        # Update the best 2-feature system if necessary\n",
        "        if accuracy_2_feature > best_performance_2_feature:\n",
        "            best_performance_2_feature = accuracy_2_feature\n",
        "            best_2_feature_system = current_selector_2_feature\n",
        "\n",
        "# Loop through all possible 3-feature combinations\n",
        "for i in range(X.shape[1]):\n",
        "    for j in range(i + 1, X.shape[1]):\n",
        "        for k in range(j + 1, X.shape[1]):\n",
        "            # Create a temporary 3-feature system\n",
        "            current_selector_3_feature = np.array([False, False, False])\n",
        "            current_selector_3_feature[i] = True\n",
        "            current_selector_3_feature[j] = True\n",
        "            current_selector_3_feature[k] = True\n",
        "            X_3_feature = X[:, current_selector_3_feature]\n",
        "\n",
        "            # Train and evaluate a logistic regression model on the 3-feature system\n",
        "            logreg = linear_model.LogisticRegression(C=1e5, solver='lbfgs', multi_class='auto')\n",
        "            logreg.fit(X_3_feature, Y)\n",
        "            predicted_3_feature = logreg.predict(X_3_feature)\n",
        "            accuracy_3_feature = accuracy_score(Y, predicted_3_feature)\n",
        "\n",
        "            # Update the best 3-feature system if necessary\n",
        "            if accuracy_3_feature > best_performance_3_feature:\n",
        "                best_performance_3_feature = accuracy_3_feature\n",
        "                best_3_feature_system = current_selector_3_feature\n",
        "\n",
        "# Print the best feature systems and their performance\n",
        "print(\"Best 2-feature system: \", selected_indices[best_2_feature_system])\n",
        "print(\"Performance: \", best_performance_2_feature)\n",
        "print(\"Best 3-feature system: \", selected_indices[best_3_feature_system])\n",
        "print(\"Performance: \", best_performance_3_feature)\n"
      ],
      "metadata": {
        "colab": {
          "base_uri": "https://localhost:8080/"
        },
        "id": "qkXix3pKH6KB",
        "outputId": "7502d3df-a2cd-470f-f34c-80545e617569"
      },
      "execution_count": null,
      "outputs": [
        {
          "output_type": "stream",
          "name": "stdout",
          "text": [
            "Best 2-feature system:  [0 3]\n",
            "Performance:  0.96\n",
            "Best 3-feature system:  [0 1 3]\n",
            "Performance:  0.9666666666666667\n"
          ]
        }
      ]
    },
    {
      "cell_type": "markdown",
      "metadata": {
        "id": "EqytbZqNJO-3"
      },
      "source": [
        "**Q2**\n",
        "\n",
        "In the regression_and_classification notebook,\n",
        "we implemented a function called `is_non_red` that is supposed to distinguish\n",
        "class 0 from classes 1 and 2.  Here is the definition and an example of using it\n",
        "on a row of the Iris dataset."
      ]
    },
    {
      "cell_type": "code",
      "execution_count": null,
      "metadata": {
        "id": "dFrZvo_eJO-4",
        "colab": {
          "base_uri": "https://localhost:8080/"
        },
        "outputId": "add88f0e-c642-4ba6-dfe3-3a8a069b873e"
      },
      "outputs": [
        {
          "output_type": "stream",
          "name": "stdout",
          "text": [
            "P is in positive class: True\n"
          ]
        }
      ],
      "source": [
        "def is_non_red (P):\n",
        "    \"\"\"\n",
        "    P is a data point, all 4 attributes.\n",
        "\n",
        "    Return True if P is in positive class.\n",
        "    \"\"\"\n",
        "    return (P[2] - .9*P[0] + 2) > 0\n",
        "\n",
        "P = features[-90]\n",
        "print('P is in positive class: {0}'.format(is_non_red(P)))"
      ]
    },
    {
      "cell_type": "markdown",
      "metadata": {
        "id": "IHB3gPUXJO-4"
      },
      "source": [
        "We call such a function a model (a model of `non-redness`). Write some code to evaluate this model's accuracy\n",
        "in predicting non redness.  Before calling the `accuracy_score` function,\n",
        "you will have to compute `predicted` using `is_non_red` to give you an array of predictions\n",
        "\n",
        "\n",
        "To create a prediction array using `is_non_red`, apply it to every row\n",
        "of `features`:\n",
        "\n",
        "```\n",
        "np.apply_along_axis(is_non_red, axis=1, arr= features)\n",
        "```\n",
        "\n",
        "You will also have to evaluate accuracy against a different standard.\n",
        "You can't evaluate against the class array `target` defined above\n",
        "because that has three classes and `is_non_red` essentially works with two.\n",
        "You have to start by creating a different\n",
        "class array that only has two classes, matching the kind of results `is_non_red` produces.\n",
        "The red class is 0, so you want `True` for every class 1 or 2 iris, and\n",
        "`False` for every class 0 iris. For this, use a Boolean mask on `target`.\n",
        "\n",
        "Be sure to say what your final score **means**.  Did you you do very well\n",
        "or very badly?  Using scikit learn, compute a model you can compare this model to in order to know\n",
        "whether you did very well or very badly."
      ]
    },
    {
      "cell_type": "code",
      "source": [
        "predicted = np.apply_along_axis(is_non_red, axis=1, arr=features)\n",
        "\n",
        "binary_target = target > 0\n",
        "\n",
        "accuracy = accuracy_score(binary_target, predicted)\n",
        "accuracy\n"
      ],
      "metadata": {
        "colab": {
          "base_uri": "https://localhost:8080/"
        },
        "id": "zkQ-5v8JeUtc",
        "outputId": "2e5f3c24-a246-4e3b-9554-adf7c223791e"
      },
      "execution_count": null,
      "outputs": [
        {
          "output_type": "execute_result",
          "data": {
            "text/plain": [
              "1.0"
            ]
          },
          "metadata": {},
          "execution_count": 19
        }
      ]
    },
    {
      "cell_type": "markdown",
      "metadata": {
        "id": "AmlfKVLMJO-5"
      },
      "source": [
        "**Q3**\n",
        "\n",
        "Using the `rock vs. mines` data set loaded in the next cell, draw a scatterplot of the points like the ones we did in Section 2 and 3 of this tutorial for the iris data.\n",
        "You will find the code in Section 3 of the rfegression_and_classification notebook will require the least modification.\n",
        "This data set tries to distinguish two classes, rocks and mines, based on sonar readings.\n",
        "Note, as the loading code indicates, this data has 60 features, which is a lot, so you should\n",
        "just pick one pair of features out and plot them.  Crucially,\n",
        "you **don't** need to plot all pairs (there are 1770 pairs), even though\n",
        "with 60 features, you are unlikely to have much success using just two.\n",
        "\n",
        "When modifying the code to draw the picture, bear in mind you really only need to\n",
        "scatter the points.  You are not being asked to draw a separation line,\n",
        "and you don't need to draw our point P, because it doesn't appear in this data.\n",
        "You should try to give the points belonging to the two classes different colors\n",
        "and shapes, as was done above."
      ]
    },
    {
      "cell_type": "code",
      "execution_count": null,
      "metadata": {
        "id": "Q2XewUF-JO-6",
        "colab": {
          "base_uri": "https://localhost:8080/"
        },
        "outputId": "6d36af26-506f-40cf-cab0-7ac01a58dda5"
      },
      "outputs": [
        {
          "output_type": "stream",
          "name": "stderr",
          "text": [
            "<ipython-input-20-493dcceebfd9>:7: FutureWarning: The prefix argument has been deprecated and will be removed in a future version. Use a list comprehension on the column names in the future.\n",
            "\n",
            "\n",
            "  mine_df = pd.read_csv(target_url, header=None, prefix=\"V\")\n"
          ]
        },
        {
          "output_type": "stream",
          "name": "stdout",
          "text": [
            "208 exemplars with 61 features\n",
            "2 classes: ['R', 'M']\n"
          ]
        }
      ],
      "source": [
        "import pandas as pd\n",
        "\n",
        "target_url = (\"https://archive.ics.uci.edu/ml/machine-learning-\"\n",
        "\"databases/undocumented/connectionist-bench/sonar/sonar.all-data\")\n",
        "\n",
        "#read rocks mines data\n",
        "mine_df = pd.read_csv(target_url, header=None, prefix=\"V\")\n",
        "mine_features = mine_df.values\n",
        "(samp_sz, num_feats) = mine_features.shape\n",
        "print('{0} exemplars with {1} features'.format(samp_sz, num_feats))\n",
        "# The last column contains the class data.  Separate it from the others.\n",
        "target = mine_features[:, 60]\n",
        "# Everything else is a feature\n",
        "mine_features = mine_features[:, :60]\n",
        "(samp_sz, num_feats) = mine_features.shape\n",
        "\n",
        "# Find the two classes we're trying to separate.\n",
        "feat_set = list(set(target))\n",
        "print('{0} classes: {1}'.format(len(feat_set), feat_set))"
      ]
    },
    {
      "cell_type": "code",
      "source": [
        "import matplotlib.pyplot as plt\n",
        "\n",
        "feature1 = 0  # Select first feature\n",
        "feature2 = 1  # Select second feature\n",
        "\n",
        "# Plot the points with different colors and shapes for different classes\n",
        "plt.scatter(mine_features[target == feat_set[0], feature1], mine_features[target == feat_set[0], feature2],\n",
        "            color='red', marker='o', label='Rocks')\n",
        "plt.scatter(mine_features[target == feat_set[1], feature1], mine_features[target == feat_set[1], feature2],\n",
        "            color='blue', marker='s', label='Mines')\n",
        "\n",
        "# Add labels and legend\n",
        "plt.xlabel('Feature {0}'.format(feature1))\n",
        "plt.ylabel('Feature {0}'.format(feature2))\n",
        "plt.legend(loc='upper right')\n",
        "\n",
        "# Show the plot\n",
        "plt.show()"
      ],
      "metadata": {
        "colab": {
          "base_uri": "https://localhost:8080/",
          "height": 449
        },
        "id": "XKA3-Bmxfymy",
        "outputId": "ce0690a7-7cdd-4ecb-8348-e0646da72dbe"
      },
      "execution_count": null,
      "outputs": [
        {
          "output_type": "display_data",
          "data": {
            "text/plain": [
              "<Figure size 640x480 with 1 Axes>"
            ],
            "image/png": "[encoded data removed]"
          },
          "metadata": {}
        }
      ]
    },
    {
      "cell_type": "markdown",
      "metadata": {
        "id": "71dzdd3yJO-7"
      },
      "source": [
        "**Q4**\n",
        "\n",
        "Combining variables: Cheap non-linearity"
      ]
    },
    {
      "cell_type": "markdown",
      "metadata": {
        "id": "v7pn7b-2JO-7"
      },
      "source": [
        "The [Heidelberg stat-center](http://www.statlab.uni-heidelberg.de/data/iris/) reports a very nice result obtained by combining\n",
        "the 2 petal features and the  2 sepal features by multiplication.  We end up with 2 **area** features, and a system that's almost as good as a 4-feature linear system,\n",
        "at the cost of a little non-linearity (the multiplication). Here's the computation,\n",
        "and the picture, both of which are very simple.  \n",
        "\n",
        "Notice what the picture is telling us:  Petal area alone\n",
        "is enough to almost perfectly perform the discrimination.  And the insight can easily be made visual."
      ]
    },
    {
      "cell_type": "code",
      "execution_count": null,
      "metadata": {
        "id": "cE2xDmt0JO-8",
        "outputId": "347ac666-ddd9-4832-b1e6-9f60998051da",
        "colab": {
          "base_uri": "https://localhost:8080/",
          "height": 466
        }
      },
      "outputs": [
        {
          "output_type": "execute_result",
          "data": {
            "text/plain": [
              "Text(0, 0.5, 'petal area')"
            ]
          },
          "metadata": {},
          "execution_count": 22
        },
        {
          "output_type": "display_data",
          "data": {
            "text/plain": [
              "<Figure size 640x480 with 1 Axes>"
            ],
            "image/png": "[encoded data removed]"
          },
          "metadata": {}
        }
      ],
      "source": [
        "from sklearn.datasets import load_iris\n",
        "from sklearn.metrics import accuracy_score\n",
        "import numpy as np\n",
        "from matplotlib import pyplot as plt\n",
        "\n",
        "data = load_iris()\n",
        "features = data['data']\n",
        "feature_names = data['feature_names']\n",
        "target = data['target']\n",
        "sepal_area = features[:,0] * features[:,1]\n",
        "petal_area = features[:,2] * features[:,3]\n",
        "\n",
        "for t,marker,c in zip(list(range(3)),\">ox\",\"rgb\"):\n",
        "    plt.scatter(sepal_area[target == t], petal_area[target == t], marker=marker, c=c,s=60)\n",
        "\n",
        "# Let's draw our point P with extra special attention getting large SIZE.\n",
        "p_sepal_area,p_petal_area,p_target  = sepal_area[-90],petal_area[-90],target[-90]\n",
        "marker,clr = \">ox\"[p_target], \"rgb\"[p_target]\n",
        "plt.scatter(p_sepal_area,p_petal_area,marker=marker,c=clr,s=180)\n",
        "\n",
        "# Let;s draw some linear separators, horizontal lines in this case\n",
        "plt.plot(np.arange(0.,40.),np.array([1.8]*40))\n",
        "plt.plot(np.arange(0.,40.),np.array([7.4]*40))\n",
        "plt.axis('tight')\n",
        "plt.xlabel('sepal area')\n",
        "plt.ylabel('petal area')"
      ]
    },
    {
      "cell_type": "markdown",
      "metadata": {
        "id": "byMQ_z2HJO-9"
      },
      "source": [
        "**Q4: Part A**\n",
        "\n",
        "Validate what the picture is telling you by training and evaluating a `linear_model.LogisticRegression`\n",
        "classifier that uses **only** the petal area feature.  \n",
        "\n",
        "You can define values for `petal_area` feature by evaluating the cell.  Your\n",
        "answer should be a few lines of code.  The last line should print out the\n",
        "accuracy score for your classifier."
      ]
    },
    {
      "cell_type": "code",
      "source": [
        "from sklearn.datasets import load_iris\n",
        "from sklearn.linear_model import LogisticRegression\n",
        "from sklearn.model_selection import train_test_split\n",
        "from sklearn.metrics import accuracy_score\n",
        "\n",
        "# Load the Iris dataset\n",
        "data = load_iris()\n",
        "features = data['data']\n",
        "feature_names = data['feature_names']\n",
        "target = data['target']\n",
        "\n",
        "# Compute petal area\n",
        "petal_area = features[:, 2] * features[:, 3]\n",
        "\n",
        "# Split the data into train and test sets\n",
        "X_train, X_test, y_train, y_test = train_test_split(petal_area.reshape(-1, 1), target, test_size=0.3, random_state=42)\n",
        "\n",
        "# Train a LogisticRegression classifier\n",
        "clf = LogisticRegression()\n",
        "clf.fit(X_train, y_train)\n",
        "\n",
        "# Predict on test data\n",
        "y_pred = clf.predict(X_test)\n",
        "\n",
        "# Calculate accuracy score\n",
        "accuracy = accuracy_score(y_test, y_pred)\n",
        "\n",
        "print(\"Accuracy Score: \", accuracy)\n"
      ],
      "metadata": {
        "colab": {
          "base_uri": "https://localhost:8080/"
        },
        "id": "yDdD0AEikqq-",
        "outputId": "0b85b94d-49bc-4efc-f92b-754da86a20c5"
      },
      "execution_count": null,
      "outputs": [
        {
          "output_type": "stream",
          "name": "stdout",
          "text": [
            "Accuracy Score:  1.0\n"
          ]
        }
      ]
    },
    {
      "cell_type": "markdown",
      "metadata": {
        "id": "BwKXXRIuJO-9"
      },
      "source": [
        "**Q4: Part B**\n",
        "\n",
        "Train and evaluate a `linear_model.LogisticRegression`\n",
        "classifier that uses **both** the petal area feature and the sepal area feature.  \n",
        "Guidelines as with the last problem.\n"
      ]
    },
    {
      "cell_type": "code",
      "source": [
        "from sklearn.datasets import load_iris\n",
        "from sklearn.linear_model import LogisticRegression\n",
        "from sklearn.metrics import accuracy_score\n",
        "import numpy as np\n",
        "from matplotlib import pyplot as plt\n",
        "\n",
        "# Load the Iris dataset\n",
        "data = load_iris()\n",
        "features = data['data']\n",
        "feature_names = data['feature_names']\n",
        "target = data['target']\n",
        "sepal_area = features[:,0] * features[:,1]\n",
        "petal_area = features[:,2] * features[:,3]\n",
        "\n",
        "# Train a LogisticRegression classifier\n",
        "X = np.column_stack((sepal_area, petal_area)) # Combine petal area and sepal area features\n",
        "y = target\n",
        "\n",
        "# Split the data into train and test sets\n",
        "from sklearn.model_selection import train_test_split\n",
        "X_train, X_test, y_train, y_test = train_test_split(X, y, test_size=0.2, random_state=42)\n",
        "\n",
        "# Initialize and train the LogisticRegression classifier\n",
        "clf = LogisticRegression()\n",
        "clf.fit(X_train, y_train)\n",
        "\n",
        "# Predict on the test set\n",
        "y_pred = clf.predict(X_test)\n",
        "\n",
        "# Calculate accuracy\n",
        "accuracy = accuracy_score(y_test, y_pred)\n",
        "print(\"Accuracy:\", accuracy)\n",
        "\n",
        "# Plot the scatter plot\n",
        "for t,marker,c in zip(list(range(3)),\">ox\",\"rgb\"):\n",
        "    plt.scatter(sepal_area[target == t], petal_area[target == t], marker=marker, c=c,s=60)\n",
        "\n",
        "# Plot the point P with special attention\n",
        "p_sepal_area, p_petal_area, p_target  = sepal_area[-90], petal_area[-90], target[-90]\n",
        "marker, clr = \">ox\"[p_target], \"rgb\"[p_target]\n",
        "plt.scatter(p_sepal_area, p_petal_area, marker=marker, c=clr, s=180)\n",
        "\n",
        "# Plot the linear separators\n",
        "plt.plot(np.arange(0., 40.), np.array([1.8]*40))\n",
        "plt.plot(np.arange(0., 40.), np.array([7.4]*40))\n",
        "plt.axis('tight')\n",
        "plt.xlabel('sepal area')\n",
        "plt.ylabel('petal area')\n",
        "plt.show()\n"
      ],
      "metadata": {
        "colab": {
          "base_uri": "https://localhost:8080/",
          "height": 466
        },
        "id": "XMsQcH8kl22m",
        "outputId": "d4a4701c-9438-44f0-a6b5-79d8e3870a58"
      },
      "execution_count": null,
      "outputs": [
        {
          "output_type": "stream",
          "name": "stdout",
          "text": [
            "Accuracy: 1.0\n"
          ]
        },
        {
          "output_type": "display_data",
          "data": {
            "text/plain": [
              "<Figure size 640x480 with 1 Axes>"
            ],
            "image/png": "[encoded data removed]"
          },
          "metadata": {}
        }
      ]
    },
    {
      "cell_type": "markdown",
      "metadata": {
        "collapsed": true,
        "id": "zNxCKqzdJO-9"
      },
      "source": [
        "**Q4 Part C**\n",
        "\n",
        "Train and evaluate a `linear_model.LogisticRegression`\n",
        "classifier that uses both  area features **as well as** the original 4 features.\n",
        "Does this do better than a classifier trained on the original 4 features?\n"
      ]
    },
    {
      "cell_type": "code",
      "source": [
        "from sklearn.datasets import load_iris\n",
        "from sklearn.model_selection import train_test_split\n",
        "from sklearn.linear_model import LogisticRegression\n",
        "from sklearn.metrics import accuracy_score\n",
        "\n",
        "# Load the Iris dataset\n",
        "data = load_iris()\n",
        "features = data['data']\n",
        "target = data['target']\n",
        "\n",
        "# Compute petal area and sepal area features\n",
        "sepal_area = features[:, 0] * features[:, 1]\n",
        "petal_area = features[:, 2] * features[:, 3]\n",
        "\n",
        "# Combine petal area and sepal area features with original 4 features\n",
        "combined_features = np.column_stack((sepal_area, petal_area))\n",
        "\n",
        "# Split the data into train and test sets\n",
        "X_train, X_test, y_train, y_test = train_test_split(combined_features, target, test_size=0.2, random_state=42)\n",
        "\n",
        "# Train a LogisticRegression classifier on the combined features\n",
        "clf_combined = LogisticRegression()\n",
        "clf_combined.fit(X_train, y_train)\n",
        "\n",
        "# Evaluate the classifier on the test set\n",
        "y_pred_combined = clf_combined.predict(X_test)\n",
        "accuracy_combined = accuracy_score(y_test, y_pred_combined)\n",
        "\n",
        "# Train a LogisticRegression classifier on the original 4 features\n",
        "X_train_original, X_test_original, y_train_original, y_test_original = train_test_split(features, target, test_size=0.2, random_state=42)\n",
        "clf_original = LogisticRegression()\n",
        "clf_original.fit(X_train_original, y_train_original)\n",
        "\n",
        "# Evaluate the classifier on the test set\n",
        "y_pred_original = clf_original.predict(X_test_original)\n",
        "accuracy_original = accuracy_score(y_test_original, y_pred_original)\n",
        "\n",
        "# Print the accuracy of both classifiers\n",
        "print(\"Accuracy with combined features:\", accuracy_combined)\n",
        "print(\"Accuracy with original features:\", accuracy_original)\n"
      ],
      "metadata": {
        "colab": {
          "base_uri": "https://localhost:8080/"
        },
        "id": "dE26Sd8wy-66",
        "outputId": "91e50533-290d-4a14-8850-04d57dfd07e6"
      },
      "execution_count": null,
      "outputs": [
        {
          "output_type": "stream",
          "name": "stdout",
          "text": [
            "Accuracy with combined features: 1.0\n",
            "Accuracy with original features: 1.0\n"
          ]
        },
        {
          "output_type": "stream",
          "name": "stderr",
          "text": [
            "/usr/local/lib/python3.9/dist-packages/sklearn/linear_model/_logistic.py:458: ConvergenceWarning: lbfgs failed to converge (status=1):\n",
            "STOP: TOTAL NO. of ITERATIONS REACHED LIMIT.\n",
            "\n",
            "Increase the number of iterations (max_iter) or scale the data as shown in:\n",
            "    https://scikit-learn.org/stable/modules/preprocessing.html\n",
            "Please also refer to the documentation for alternative solver options:\n",
            "    https://scikit-learn.org/stable/modules/linear_model.html#logistic-regression\n",
            "  n_iter_i = _check_optimize_result(\n"
          ]
        }
      ]
    }
  ],
  "metadata": {
    "kernelspec": {
      "display_name": "Python 3 (ipykernel)",
      "language": "python",
      "name": "python3"
    },
    "language_info": {
      "codemirror_mode": {
        "name": "ipython",
        "version": 3
      },
      "file_extension": ".py",
      "mimetype": "text/x-python",
      "name": "python",
      "nbconvert_exporter": "python",
      "pygments_lexer": "ipython3",
      "version": "3.8.13"
    },
    "toc": {
      "base_numbering": 1,
      "nav_menu": {
        "height": "171px",
        "width": "253px"
      },
      "number_sections": true,
      "sideBar": true,
      "skip_h1_title": false,
      "title_cell": "Table of Contents",
      "title_sidebar": "Contents",
      "toc_cell": false,
      "toc_position": {},
      "toc_section_display": "block",
      "toc_window_display": false
    },
    "colab": {
      "provenance": []
    }
  },
  "nbformat": 4,
  "nbformat_minor": 0
}